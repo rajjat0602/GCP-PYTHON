{
 "cells": [
  {
   "cell_type": "code",
   "execution_count": 1,
   "id": "f815ed0b",
   "metadata": {},
   "outputs": [],
   "source": [
    "from google.cloud import storage\n",
    "import pandas as pd\n",
    "import io"
   ]
  },
  {
   "cell_type": "markdown",
   "id": "7d8c9d2a",
   "metadata": {},
   "source": [
    "1. Create Client Object"
   ]
  },
  {
   "cell_type": "code",
   "execution_count": 2,
   "id": "2fdabeda",
   "metadata": {},
   "outputs": [],
   "source": [
    "try:\n",
    "     # creating the client object\n",
    "    SERVICE_ACCOUNT_JSON=r'D:\\project\\aerial-reef-332517-07a94b2ffe42.json'\n",
    "    storage_client=storage.Client.from_service_account_json(SERVICE_ACCOUNT_JSON)\n",
    "except Exception as e:\n",
    "    print(\"ERROR:{}\".formate(e))"
   ]
  },
  {
   "cell_type": "code",
   "execution_count": 3,
   "id": "1ea0bbf5",
   "metadata": {},
   "outputs": [
    {
     "name": "stdout",
     "output_type": "stream",
     "text": [
      "<google.cloud.storage.client.Client object at 0x000001C9568D4760>\n"
     ]
    }
   ],
   "source": [
    "print(storage_client)"
   ]
  },
  {
   "cell_type": "markdown",
   "id": "02a6b5cf",
   "metadata": {},
   "source": [
    "2. Getting all the files from Gcp bucket"
   ]
  },
  {
   "cell_type": "code",
   "execution_count": 4,
   "id": "aa36ee81",
   "metadata": {},
   "outputs": [],
   "source": [
    "bucket=storage_client.get_bucket('gcp_proj_temp')"
   ]
  },
  {
   "cell_type": "code",
   "execution_count": 5,
   "id": "68fcf983",
   "metadata": {},
   "outputs": [
    {
     "name": "stdout",
     "output_type": "stream",
     "text": [
      "<Blob: gcp_proj_temp, Retail_Data_Transactions.csv, 1637517878202520>\n",
      "['Retail_Data_Transactions.csv']\n"
     ]
    }
   ],
   "source": [
    "temp=[]\n",
    "for filename in list(bucket.list_blobs(prefix='')):\n",
    "    print(filename)\n",
    "    temp.append(filename.name)\n",
    "print(temp)"
   ]
  },
  {
   "cell_type": "code",
   "execution_count": 8,
   "id": "82605a6b",
   "metadata": {},
   "outputs": [
    {
     "name": "stdout",
     "output_type": "stream",
     "text": [
      "Successfully uploaded the user.json file to GCS bucket\n"
     ]
    }
   ],
   "source": [
    "#Uploading csv file to GCS BUCKET\n",
    "import os\n",
    "\n",
    "filename='user.json'\n",
    "UPLOAD_FILE_NAME=os.path.join(filename)\n",
    "\n",
    "#bucket\n",
    "bucket=storage_client.get_bucket('gcp_proj_temp')\n",
    "blob=bucket.blob(filename)\n",
    "blob.upload_from_filename(UPLOAD_FILE_NAME)\n",
    "\n",
    "print(\"Successfully uploaded the {} file to GCS bucket\".format(filename))"
   ]
  },
  {
   "cell_type": "markdown",
   "id": "e2c9a2ee",
   "metadata": {},
   "source": [
    "4.Downloading the FIle from GCS Bucket to local machine"
   ]
  },
  {
   "cell_type": "code",
   "execution_count": 22,
   "id": "3d4c03fe",
   "metadata": {},
   "outputs": [],
   "source": [
    "def download_file_from_gcs(Bucket_name,source_blob_name,destination_file_name,storage_client):\n",
    "    try:\n",
    "        bucket=storage_client.bucket(Bucket_name)\n",
    "        blob=bucket.blob(source_blob_name)\n",
    "        blob.download_to_filename(destination_file_name)\n",
    "        print(\n",
    "            \"Downloaded storage object {} from bucket {} to local file {}.\".format(\n",
    "                source_blob_name, Bucket_name, destination_file_name\n",
    "            ))\n",
    "    except Exception as e:\n",
    "        print(\"ERROR : {}\".format(e))"
   ]
  },
  {
   "cell_type": "code",
   "execution_count": 23,
   "id": "ea536a22",
   "metadata": {},
   "outputs": [
    {
     "name": "stdout",
     "output_type": "stream",
     "text": [
      "Downloaded storage object Retail_Data_Transactions.csv from bucket gcp_proj_temp to local file R_D_T.csv.\n"
     ]
    }
   ],
   "source": [
    "Bucket_name='gcp_proj_temp'\n",
    "source_blob_name='Retail_Data_Transactions.csv'\n",
    "destination_file_name='R_D_T.csv'\n",
    "download_file_from_gcs(Bucket_name,source_blob_name,destination_file_name,storage_client)"
   ]
  },
  {
   "cell_type": "markdown",
   "id": "b11d19d6",
   "metadata": {},
   "source": [
    "5. Loading BigQuery table from csv file in GCS."
   ]
  },
  {
   "cell_type": "markdown",
   "id": "5d9b12d5",
   "metadata": {},
   "source": [
    "5.1 Creating data set"
   ]
  },
  {
   "cell_type": "code",
   "execution_count": 53,
   "id": "3f1006cd",
   "metadata": {},
   "outputs": [],
   "source": [
    "def create_dataset(dataset_name,location,description):\n",
    "    from google.cloud import bigquery\n",
    "    SERVICE_ACCOUNT_JSON=r'D:\\project\\aerial-reef-332517-07a94b2ffe42.json'\n",
    "    storage_client=bigquery.Client.from_service_account_json(SERVICE_ACCOUNT_JSON)\n",
    "    dataset = bigquery.Dataset(dataset_name)\n",
    "    dataset.location =location\n",
    "    dataset = storage_client.create_dataset(dataset, timeout=30)  # Make an API request.\n",
    "    print(\"Created dataset {}.{}\".format(storage_client.project, dataset.dataset_id))"
   ]
  },
  {
   "cell_type": "code",
   "execution_count": 55,
   "id": "7d0cf63b",
   "metadata": {},
   "outputs": [
    {
     "name": "stdout",
     "output_type": "stream",
     "text": [
      "<google.cloud.storage.client.Client object at 0x00000192D8814460>\n",
      "Created dataset aerial-reef-332517.Retail_Data_temp\n"
     ]
    }
   ],
   "source": [
    "dataset_name=\"aerial-reef-332517.Retail_Data_temp\"\n",
    "loaction=\"US\"\n",
    "description=\"Dataset from python\"\n",
    "print(storage_client)\n",
    "create_dataset(dataset_name,loaction,description)"
   ]
  },
  {
   "cell_type": "markdown",
   "id": "447cfbb8",
   "metadata": {},
   "source": [
    "5.2 Creating and loading data into table from GCS bucket."
   ]
  },
  {
   "cell_type": "code",
   "execution_count": 57,
   "id": "4564522e",
   "metadata": {},
   "outputs": [],
   "source": [
    "def load_table(table_id):\n",
    "    from google.cloud import bigquery\n",
    "    SERVICE_ACCOUNT_JSON=r'D:\\project\\aerial-reef-332517-07a94b2ffe42.json'\n",
    "    storage_client=bigquery.Client.from_service_account_json(SERVICE_ACCOUNT_JSON)\n",
    "    job_config = bigquery.LoadJobConfig(\n",
    "        schema=[\n",
    "            bigquery.SchemaField(\"Customer_id\", \"STRING\"),\n",
    "            bigquery.SchemaField(\"Transaction_date\", \"STRING\"),\n",
    "            bigquery.SchemaField(\"Transaction_amount\", \"INT64\"),\n",
    "        ],skip_leading_rows=1, source_format=bigquery.SourceFormat.CSV,)\n",
    "    \n",
    "    uri = \"gs://gcp_proj_temp/Retail_Data_Transactions.csv\"\n",
    "    load_job = storage_client.load_table_from_uri(uri, table_id, job_config=job_config)\n",
    "    load_job.result()\n",
    "    destination_table = storage_client.get_table(table_id)\n",
    "    print(\"Loaded {} rows.\".format(destination_table.num_rows))"
   ]
  },
  {
   "cell_type": "code",
   "execution_count": 58,
   "id": "da55a9ab",
   "metadata": {},
   "outputs": [
    {
     "name": "stdout",
     "output_type": "stream",
     "text": [
      "Loaded 125000 rows.\n"
     ]
    }
   ],
   "source": [
    "# table_id = \"your-project.your_dataset.your_table_name\"\n",
    "table_id=\"aerial-reef-332517.Retail_Data_temp.Retail_Data_Transactions\"\n",
    "load_table(table_id)"
   ]
  },
  {
   "cell_type": "markdown",
   "id": "4bb5e71a",
   "metadata": {},
   "source": [
    "6.Parsing complex JSON files"
   ]
  },
  {
   "cell_type": "code",
   "execution_count": 42,
   "id": "1f3b6030",
   "metadata": {},
   "outputs": [
    {
     "data": {
      "text/plain": [
       "[{'_class': 'question',\n",
       "  'course': {'_class': 'course',\n",
       "   'title': 'Angular 7 (formerly Angular 2) - The Complete Guide',\n",
       "   'url': '/the-complete-guide-to-angular-2/'},\n",
       "  'replies': [{'_class': 'answer',\n",
       "    'user': {'_class': 'user', 'display_name': 'Maximilian Schwarzmueller'}}]},\n",
       " {'_class': 'question',\n",
       "  'course': {'_class': 'course',\n",
       "   'title': 'Angular 7 (formerly Angular 2) - The Complete Guide',\n",
       "   'url': '/the-complete-guide-to-angular-2/'},\n",
       "  'replies': [{'_class': 'answer',\n",
       "    'user': {'_class': 'user', 'display_name': 'Maximilian Schwarzmueller'}},\n",
       "   {'_class': 'answer',\n",
       "    'user': {'_class': 'user', 'display_name': 'Daniel Weat'}}]},\n",
       " {'_class': 'question',\n",
       "  'course': {'_class': 'course',\n",
       "   'title': 'Angular 7 (formerly Angular 2) - The Complete Guide',\n",
       "   'url': '/the-complete-guide-to-angular-2/'},\n",
       "  'replies': [{'_class': 'answer',\n",
       "    'user': {'_class': 'user', 'display_name': 'Maximilian Schwarzmueller'}},\n",
       "   {'_class': 'answer',\n",
       "    'user': {'_class': 'user', 'display_name': 'Mike Jauranol'}},\n",
       "   {'_class': 'answer',\n",
       "    'user': {'_class': 'user', 'display_name': 'Mike Jauranol'}},\n",
       "   {'_class': 'answer',\n",
       "    'user': {'_class': 'user', 'display_name': 'Maximilian Schwarzmueller'}}]},\n",
       " {'_class': 'question',\n",
       "  'course': {'_class': 'course',\n",
       "   'title': 'Angular 7 (formerly Angular 2) - The Complete Guide',\n",
       "   'url': '/the-complete-guide-to-angular-2/'},\n",
       "  'replies': [{'_class': 'answer',\n",
       "    'user': {'_class': 'user', 'display_name': 'Maximilian Schwarzmueller'}}]},\n",
       " {'_class': 'question',\n",
       "  'course': {'_class': 'course',\n",
       "   'title': 'Angular 7 (formerly Angular 2) - The Complete Guide',\n",
       "   'url': '/the-complete-guide-to-angular-2/'},\n",
       "  'replies': [{'_class': 'answer',\n",
       "    'user': {'_class': 'user', 'display_name': 'Maximilian Schwarzmueller'}},\n",
       "   {'_class': 'answer',\n",
       "    'user': {'_class': 'user', 'display_name': 'Bernd Raucher'}},\n",
       "   {'_class': 'answer',\n",
       "    'user': {'_class': 'user', 'display_name': 'Maximilian Schwarzmueller'}}]}]"
      ]
     },
     "execution_count": 42,
     "metadata": {},
     "output_type": "execute_result"
    }
   ],
   "source": [
    "import pandas as pd\n",
    "import json\n",
    "\n",
    "with open('./source_data.json') as access_json:\n",
    "    data= json.load(access_json)\n",
    "\n",
    "result=data['results']\n",
    "result"
   ]
  },
  {
   "cell_type": "code",
   "execution_count": 38,
   "id": "a5a7fcec",
   "metadata": {},
   "outputs": [],
   "source": [
    "Class=[]\n",
    "course_name=[]\n",
    "url=[]\n",
    "replies=[]\n",
    "StudentName=[]"
   ]
  },
  {
   "cell_type": "code",
   "execution_count": 39,
   "id": "2952f780",
   "metadata": {},
   "outputs": [
    {
     "name": "stdout",
     "output_type": "stream",
     "text": [
      "5\n",
      "5\n",
      "5\n",
      "5\n",
      "5\n"
     ]
    }
   ],
   "source": [
    "for i in result:\n",
    "    Class.append(i['_class'])\n",
    "    course_details=i['course']\n",
    "    course_name.append(course_details['title'])\n",
    "    url.append(course_details['url'])\n",
    "    replies_details=i['replies']\n",
    "    user=[]\n",
    "    reply=[]\n",
    "    for j in replies_details:\n",
    "        reply.append(j['_class'])\n",
    "        user.append(j['user']['display_name'])\n",
    "    StudentName.append(user)\n",
    "    replies.append(reply)\n",
    "\n",
    "print(len(Class))\n",
    "print(len(course_name))\n",
    "print(len(url))\n",
    "print(len(replies))\n",
    "print(len(StudentName))"
   ]
  },
  {
   "cell_type": "code",
   "execution_count": 40,
   "id": "efdace75",
   "metadata": {},
   "outputs": [],
   "source": [
    "df=pd.DataFrame({\n",
    "    'Class':Class,\n",
    "    'Course Name':course_name,\n",
    "    'Course url':url,\n",
    "    'Student Reply':replies,\n",
    "    'studen Name':StudentName\n",
    "})"
   ]
  },
  {
   "cell_type": "code",
   "execution_count": 41,
   "id": "583cd288",
   "metadata": {},
   "outputs": [
    {
     "data": {
      "text/html": [
       "<div>\n",
       "<style scoped>\n",
       "    .dataframe tbody tr th:only-of-type {\n",
       "        vertical-align: middle;\n",
       "    }\n",
       "\n",
       "    .dataframe tbody tr th {\n",
       "        vertical-align: top;\n",
       "    }\n",
       "\n",
       "    .dataframe thead th {\n",
       "        text-align: right;\n",
       "    }\n",
       "</style>\n",
       "<table border=\"1\" class=\"dataframe\">\n",
       "  <thead>\n",
       "    <tr style=\"text-align: right;\">\n",
       "      <th></th>\n",
       "      <th>Class</th>\n",
       "      <th>Course Name</th>\n",
       "      <th>Course url</th>\n",
       "      <th>Student Reply</th>\n",
       "      <th>studen Name</th>\n",
       "    </tr>\n",
       "  </thead>\n",
       "  <tbody>\n",
       "    <tr>\n",
       "      <th>0</th>\n",
       "      <td>question</td>\n",
       "      <td>Angular 7 (formerly Angular 2) - The Complete ...</td>\n",
       "      <td>/the-complete-guide-to-angular-2/</td>\n",
       "      <td>[answer]</td>\n",
       "      <td>[Maximilian Schwarzmueller]</td>\n",
       "    </tr>\n",
       "    <tr>\n",
       "      <th>1</th>\n",
       "      <td>question</td>\n",
       "      <td>Angular 7 (formerly Angular 2) - The Complete ...</td>\n",
       "      <td>/the-complete-guide-to-angular-2/</td>\n",
       "      <td>[answer, answer]</td>\n",
       "      <td>[Maximilian Schwarzmueller, Daniel Weat]</td>\n",
       "    </tr>\n",
       "    <tr>\n",
       "      <th>2</th>\n",
       "      <td>question</td>\n",
       "      <td>Angular 7 (formerly Angular 2) - The Complete ...</td>\n",
       "      <td>/the-complete-guide-to-angular-2/</td>\n",
       "      <td>[answer, answer, answer, answer]</td>\n",
       "      <td>[Maximilian Schwarzmueller, Mike Jauranol, Mik...</td>\n",
       "    </tr>\n",
       "    <tr>\n",
       "      <th>3</th>\n",
       "      <td>question</td>\n",
       "      <td>Angular 7 (formerly Angular 2) - The Complete ...</td>\n",
       "      <td>/the-complete-guide-to-angular-2/</td>\n",
       "      <td>[answer]</td>\n",
       "      <td>[Maximilian Schwarzmueller]</td>\n",
       "    </tr>\n",
       "    <tr>\n",
       "      <th>4</th>\n",
       "      <td>question</td>\n",
       "      <td>Angular 7 (formerly Angular 2) - The Complete ...</td>\n",
       "      <td>/the-complete-guide-to-angular-2/</td>\n",
       "      <td>[answer, answer, answer]</td>\n",
       "      <td>[Maximilian Schwarzmueller, Bernd Raucher, Max...</td>\n",
       "    </tr>\n",
       "  </tbody>\n",
       "</table>\n",
       "</div>"
      ],
      "text/plain": [
       "      Class                                        Course Name  \\\n",
       "0  question  Angular 7 (formerly Angular 2) - The Complete ...   \n",
       "1  question  Angular 7 (formerly Angular 2) - The Complete ...   \n",
       "2  question  Angular 7 (formerly Angular 2) - The Complete ...   \n",
       "3  question  Angular 7 (formerly Angular 2) - The Complete ...   \n",
       "4  question  Angular 7 (formerly Angular 2) - The Complete ...   \n",
       "\n",
       "                          Course url                     Student Reply  \\\n",
       "0  /the-complete-guide-to-angular-2/                          [answer]   \n",
       "1  /the-complete-guide-to-angular-2/                  [answer, answer]   \n",
       "2  /the-complete-guide-to-angular-2/  [answer, answer, answer, answer]   \n",
       "3  /the-complete-guide-to-angular-2/                          [answer]   \n",
       "4  /the-complete-guide-to-angular-2/          [answer, answer, answer]   \n",
       "\n",
       "                                         studen Name  \n",
       "0                        [Maximilian Schwarzmueller]  \n",
       "1           [Maximilian Schwarzmueller, Daniel Weat]  \n",
       "2  [Maximilian Schwarzmueller, Mike Jauranol, Mik...  \n",
       "3                        [Maximilian Schwarzmueller]  \n",
       "4  [Maximilian Schwarzmueller, Bernd Raucher, Max...  "
      ]
     },
     "execution_count": 41,
     "metadata": {},
     "output_type": "execute_result"
    }
   ],
   "source": [
    "df"
   ]
  },
  {
   "cell_type": "code",
   "execution_count": null,
   "id": "5dcd6f59",
   "metadata": {},
   "outputs": [],
   "source": []
  },
  {
   "cell_type": "code",
   "execution_count": null,
   "id": "d7cd13ce",
   "metadata": {},
   "outputs": [],
   "source": []
  },
  {
   "cell_type": "code",
   "execution_count": null,
   "id": "399d182f",
   "metadata": {},
   "outputs": [],
   "source": []
  }
 ],
 "metadata": {
  "kernelspec": {
   "display_name": "Python 3",
   "language": "python",
   "name": "python3"
  },
  "language_info": {
   "codemirror_mode": {
    "name": "ipython",
    "version": 3
   },
   "file_extension": ".py",
   "mimetype": "text/x-python",
   "name": "python",
   "nbconvert_exporter": "python",
   "pygments_lexer": "ipython3",
   "version": "3.8.8"
  }
 },
 "nbformat": 4,
 "nbformat_minor": 5
}
