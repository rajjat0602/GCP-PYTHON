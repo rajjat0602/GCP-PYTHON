{
 "cells": [
  {
   "cell_type": "code",
   "execution_count": 11,
   "id": "8c215546",
   "metadata": {},
   "outputs": [],
   "source": [
    "import pandas as pd\n",
    "from google.cloud import bigquery\n",
    "import io"
   ]
  },
  {
   "cell_type": "code",
   "execution_count": 3,
   "id": "08599a98",
   "metadata": {},
   "outputs": [],
   "source": [
    "class Client:\n",
    "    def __init__(self,SERVICE_ACCOUNT_JSON):\n",
    "        self.SERVICE_ACCOUNT_JSON=SERVICE_ACCOUNT_JSON\n",
    "        self.bigQuery_client=None\n",
    "    def makeConnection(self):\n",
    "        from google.cloud import bigquery\n",
    "        self.bigQuery_client=bigquery.Client.from_service_account_json(self.SERVICE_ACCOUNT_JSON)\n",
    "    def getClient(self):\n",
    "        return self.bigQuery_client"
   ]
  },
  {
   "cell_type": "code",
   "execution_count": 6,
   "id": "d408da8f",
   "metadata": {
    "scrolled": true
   },
   "outputs": [
    {
     "name": "stdout",
     "output_type": "stream",
     "text": [
      "<google.cloud.bigquery.client.Client object at 0x000001E728E45F70>\n"
     ]
    }
   ],
   "source": [
    "SERVICE_ACCOUNT_JSON=r'D:\\project\\aerial-reef-332517-07a94b2ffe42.json'\n",
    "client=Client(SERVICE_ACCOUNT_JSON)\n",
    "client.makeConnection()\n",
    "bigQueryClient=client.getClient()\n",
    "print(bigQueryClient)"
   ]
  },
  {
   "cell_type": "code",
   "execution_count": 18,
   "id": "9fc79ecf",
   "metadata": {},
   "outputs": [],
   "source": [
    "def create_dataset(dataset_name,location,description,bigQueryClient):\n",
    "    try:\n",
    "        dataset = bigquery.Dataset(dataset_name)\n",
    "        dataset.location =location\n",
    "        dataset = bigQueryClient.create_dataset(dataset, timeout=30)  # Make an API request.\n",
    "        print(\"Created dataset {}.{}\".format(bigQueryClient.project, dataset.dataset_id))\n",
    "    except Exception as e:\n",
    "        print(\"Error : {}\".format(e))"
   ]
  },
  {
   "cell_type": "code",
   "execution_count": 17,
   "id": "edd3bcaf",
   "metadata": {},
   "outputs": [
    {
     "name": "stdout",
     "output_type": "stream",
     "text": [
      "error : 409 POST https://bigquery.googleapis.com/bigquery/v2/projects/aerial-reef-332517/datasets?prettyPrint=false: Already Exists: Dataset aerial-reef-332517:Json_tables\n"
     ]
    }
   ],
   "source": [
    "dataset_name=\"aerial-reef-332517.Json_tables\"\n",
    "loaction=\"US\"\n",
    "description=\"Loading table iwth json data\"\n",
    "create_dataset(dataset_name,loaction,description,client.getClient())"
   ]
  },
  {
   "cell_type": "markdown",
   "id": "40b5a9f5",
   "metadata": {},
   "source": [
    "Creating the table for nested json"
   ]
  },
  {
   "cell_type": "code",
   "execution_count": 20,
   "id": "7dd38b7f",
   "metadata": {},
   "outputs": [
    {
     "name": "stdout",
     "output_type": "stream",
     "text": [
      "Created table aerial-reef-332517:Json_tables.my_table\n"
     ]
    }
   ],
   "source": [
    "project = bigQueryClient.project\n",
    "dataset_ref = bigquery.DatasetReference(project, 'Json_tables')\n",
    "\n",
    "schema = [\n",
    "    bigquery.SchemaField(\"id\", \"STRING\", mode=\"NULLABLE\"),\n",
    "    bigquery.SchemaField(\"first_name\", \"STRING\", mode=\"NULLABLE\"),\n",
    "    bigquery.SchemaField(\"last_name\", \"STRING\", mode=\"NULLABLE\"),\n",
    "    bigquery.SchemaField(\"dob\", \"DATE\", mode=\"NULLABLE\"),\n",
    "    bigquery.SchemaField(\n",
    "        \"addresses\",\n",
    "        \"RECORD\",\n",
    "        mode=\"REPEATED\",\n",
    "        fields=[\n",
    "            bigquery.SchemaField(\"status\", \"STRING\", mode=\"NULLABLE\"),\n",
    "            bigquery.SchemaField(\"address\", \"STRING\", mode=\"NULLABLE\"),\n",
    "            bigquery.SchemaField(\"city\", \"STRING\", mode=\"NULLABLE\"),\n",
    "            bigquery.SchemaField(\"state\", \"STRING\", mode=\"NULLABLE\"),\n",
    "            bigquery.SchemaField(\"zip\", \"STRING\", mode=\"NULLABLE\"),\n",
    "            bigquery.SchemaField(\"numberOfYears\", \"STRING\", mode=\"NULLABLE\"),\n",
    "        ],\n",
    "    ),\n",
    "]\n",
    "table_ref = dataset_ref.table(\"my_table\")\n",
    "table = bigquery.Table(table_ref, schema=schema)\n",
    "table = bigQueryClient.create_table(table)\n",
    "\n",
    "print(\"Created table {}\".format(table.full_table_id))"
   ]
  },
  {
   "cell_type": "code",
   "execution_count": 34,
   "id": "66863550",
   "metadata": {},
   "outputs": [],
   "source": [
    "def LoadTable(bigQueryClient,jsonfile,schema1,table_id):\n",
    "    job_config = bigquery.LoadJobConfig(schema=schema1,\n",
    "    source_format=bigquery.SourceFormat.NEWLINE_DELIMITED_JSON,)\n",
    "    uri = jsonfile\n",
    "\n",
    "    load_job = bigQueryClient.load_table_from_uri(uri,table_id,location=\"US\",job_config=job_config,)\n",
    "\n",
    "    load_job.result()  # Waits for the job to complete.\n",
    "\n",
    "    destination_table = bigQueryClient.get_table(table_id)\n",
    "    print(\"Loaded {} rows.\".format(destination_table.num_rows))"
   ]
  },
  {
   "cell_type": "code",
   "execution_count": 35,
   "id": "36a2d60d",
   "metadata": {},
   "outputs": [
    {
     "name": "stdout",
     "output_type": "stream",
     "text": [
      "Loaded 2 rows.\n"
     ]
    }
   ],
   "source": [
    "LoadTable(bigQueryClient,\"gs://gcp_proj_temp/user.json\",schema,table_ref)"
   ]
  },
  {
   "cell_type": "code",
   "execution_count": null,
   "id": "dc1df890",
   "metadata": {},
   "outputs": [],
   "source": []
  }
 ],
 "metadata": {
  "kernelspec": {
   "display_name": "Python 3",
   "language": "python",
   "name": "python3"
  },
  "language_info": {
   "codemirror_mode": {
    "name": "ipython",
    "version": 3
   },
   "file_extension": ".py",
   "mimetype": "text/x-python",
   "name": "python",
   "nbconvert_exporter": "python",
   "pygments_lexer": "ipython3",
   "version": "3.8.8"
  }
 },
 "nbformat": 4,
 "nbformat_minor": 5
}
